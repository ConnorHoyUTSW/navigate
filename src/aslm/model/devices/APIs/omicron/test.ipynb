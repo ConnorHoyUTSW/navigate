{
 "cells": [
  {
   "cell_type": "code",
   "execution_count": 1,
   "metadata": {},
   "outputs": [],
   "source": [
    "from LuxxLaser import LuxxLaser"
   ]
  },
  {
   "cell_type": "code",
   "execution_count": 2,
   "metadata": {},
   "outputs": [
    {
     "name": "stdout",
     "output_type": "stream",
     "text": [
      "The search string is: b'!GSI(.+)\\n'\n",
      "The response string is: b'!GSI488\\xa7200\\n'\n",
      "488.0\n",
      "The search string is: b'!GSN(.+)\\n'\n",
      "The response string is: b'!GSN2107-52\\n'\n",
      "2107-52\n",
      "The search string is: b'!GWH(.+)\\n'\n",
      "The response string is: b'!GWH1252\\n'\n",
      "1252\n",
      "The search string is: b'!GMP(.+)\\n'\n",
      "The response string is: b'!GMP200\\n'\n",
      "200.0\n",
      "The search string is: b'!GFw(.+)\\n'\n",
      "The response string is: b'!GFwLuxX\\xa74\\xa72.28\\n'\n",
      "b'LuxX\\xa74\\xa72.28'\n",
      "Command 'GSH' is unknown for this device\n",
      "None\n",
      "Command 'GFH' is unknown for this device\n",
      "None\n",
      "The search string is: b'!MID(.+)\\n'\n",
      "The response string is: b'!MID0.0\\n'\n",
      "b'0.0'\n",
      "The search string is: b'!GOM(.+)\\n'\n",
      "The response string is: b'!GOMF098\\n'\n",
      "b'F098'\n",
      "The search string is: b'!GAS(.+)\\n'\n",
      "The response string is: b'!GAS0282\\n'\n",
      "b'0282'\n",
      "The search string is: b'!GFB(.+)\\n'\n",
      "The response string is: b'!GFB0000\\n'\n",
      "b'0000'\n",
      "The search string is: b'!GMP(.+)\\n'\n",
      "The response string is: b'!GMP200\\n'\n",
      "b'200'\n"
     ]
    },
    {
     "data": {
      "text/plain": [
       "<LuxxLaser.LuxxLaser at 0x20321f5df10>"
      ]
     },
     "execution_count": 2,
     "metadata": {},
     "output_type": "execute_result"
    }
   ],
   "source": [
    "LuxxLaser(comport='COM24')"
   ]
  }
 ],
 "metadata": {
  "kernelspec": {
   "display_name": "Python 3.9.7 ('ASLM')",
   "language": "python",
   "name": "python3"
  },
  "language_info": {
   "codemirror_mode": {
    "name": "ipython",
    "version": 3
   },
   "file_extension": ".py",
   "mimetype": "text/x-python",
   "name": "python",
   "nbconvert_exporter": "python",
   "pygments_lexer": "ipython3",
   "version": "3.9.7"
  },
  "orig_nbformat": 4,
  "vscode": {
   "interpreter": {
    "hash": "b8c4477f658d09562e47c8fae8d9bed0a7b44ee0ec04bb7a6d4b17c26bce91ef"
   }
  }
 },
 "nbformat": 4,
 "nbformat_minor": 2
}
