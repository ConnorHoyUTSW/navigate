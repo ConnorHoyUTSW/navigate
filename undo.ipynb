{
 "cells": [
  {
   "cell_type": "code",
   "execution_count": 7,
   "metadata": {},
   "outputs": [],
   "source": [
    "import tkinter as tk\n",
    "from tkinter import ttk\n",
    "from aslm.view.custom_widgets.validation import ValidatedMixin\n",
    "from decimal import Decimal, InvalidOperation\n",
    "\n",
    "class ValidatedEntry(ValidatedMixin, ttk.Entry):\n",
    "    def __init__(self, *args, precision=0, required=False, min_var=None, max_var=None, focus_update_var=None, min='-Infinity', max='Infinity', **kwargs):\n",
    "        super().__init__(*args, **kwargs)\n",
    "        self.resolution = Decimal(precision) # Number for precision given on creation\n",
    "        self.precision = (self.resolution.normalize().as_tuple().exponent) # Precision of number as exponent\n",
    "        self.variable = kwargs.get('textvariable') or tk.StringVar\n",
    "        self.min = min\n",
    "        self.max = max\n",
    "        self.required = required\n",
    "        self.undo_history = []\n",
    "        self.redo_history = []\n",
    "        \n",
    "    # Dynamic range checker\n",
    "        # if min_var:\n",
    "        #     self.min_var = min_var\n",
    "        #     self.min_var.trace_add('w', self._set_minimum)\n",
    "        # if max_var:\n",
    "        #     self.max_var = max_var\n",
    "        #     self.max_var.trace_add('w', self._set_maximum)\n",
    "        # self.focus_update_var = focus_update_var\n",
    "        # self.bind('<FocusOut>', self._set_focus_update_var)\n",
    "\n",
    "    # Binding key press\n",
    "        # self.bind('<Key>', self.key_print)\n",
    "\n",
    "    # Update history\n",
    "        self.bind(\"<FocusOut>\", self.add_history)\n",
    "\n",
    "    # Undo/Redo\n",
    "        self.bind(\"z\", self.undo)\n",
    "        self.bind(\"y\", self.redo)\n",
    "\n",
    "    \n",
    "    # All widgets that want to use undo redo will need this function and the undo_history, redo_history lists\n",
    "    def add_history(self, event):\n",
    "        if event.type == '10':\n",
    "            if self.get() != '':\n",
    "                if not self.undo_history or self.get() != self.undo_history[-1]:\n",
    "                    self.undo_history.append(self.get())\n",
    "                    print(event.widget.undo_history)\n",
    "                    print(\"widget is accessed : \",event.widget.redo_history)\n",
    "\n",
    "    def undo(self, event):\n",
    "        if event.state == 4:\n",
    "            if len(self.undo_history) > 1:\n",
    "                self.delete(0, tk.END)\n",
    "                self.insert(tk.END, self.undo_history[-2])\n",
    "                self.redo_history.append(self.undo_history.pop())\n",
    "            elif len(self.undo_history) == 1:\n",
    "                self.delete(0, tk.END)\n",
    "                self.redo_history.append(self.undo_history.pop())\n",
    "            \n",
    "    \n",
    "    def redo(self, event):\n",
    "        if event.state == 4:\n",
    "            if self.redo_history:\n",
    "                self.delete(0, tk.END)\n",
    "                self.insert(tk.END, self.redo_history[-1])\n",
    "                self.undo_history.append(self.redo_history.pop())\n",
    "\n",
    "    def key_print(self, event):\n",
    "        print(event.state)\n",
    "        print(event.keysym)\n",
    "        print(event.keycode)\n",
    "        print(event)\n"
   ]
  },
  {
   "cell_type": "code",
   "execution_count": 8,
   "metadata": {},
   "outputs": [
    {
     "name": "stdout",
     "output_type": "stream",
     "text": [
      "['hello']\n",
      "widget is accessed :  []\n",
      "['hello', 'there']\n",
      "widget is accessed :  []\n",
      "['hello', 'there', 'again']\n",
      "widget is accessed :  []\n"
     ]
    }
   ],
   "source": [
    "root = tk.Tk()\n",
    "entry = ValidatedEntry(root, takefocus=False)\n",
    "entry1 = ttk.Entry(root)\n",
    "entry.pack()\n",
    "entry1.pack()\n",
    "root.mainloop()"
   ]
  }
 ],
 "metadata": {
  "kernelspec": {
   "display_name": "Python 3.9.7 ('ASLM')",
   "language": "python",
   "name": "python3"
  },
  "language_info": {
   "codemirror_mode": {
    "name": "ipython",
    "version": 3
   },
   "file_extension": ".py",
   "mimetype": "text/x-python",
   "name": "python",
   "nbconvert_exporter": "python",
   "pygments_lexer": "ipython3",
   "version": "3.9.7"
  },
  "orig_nbformat": 4,
  "vscode": {
   "interpreter": {
    "hash": "afba61b275ae6618fa246fca3a614caf4fdcbebea6f172bce188d1edd7327c95"
   }
  }
 },
 "nbformat": 4,
 "nbformat_minor": 2
}
